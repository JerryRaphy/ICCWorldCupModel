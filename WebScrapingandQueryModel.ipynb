{
  "nbformat": 4,
  "nbformat_minor": 0,
  "metadata": {
    "colab": {
      "provenance": []
    },
    "kernelspec": {
      "name": "python3",
      "display_name": "Python 3"
    },
    "language_info": {
      "name": "python"
    }
  },
  "cells": [
    {
      "cell_type": "markdown",
      "source": [
        "Downloading the required dependencies"
      ],
      "metadata": {
        "id": "DYTfG2Upb3BY"
      }
    },
    {
      "cell_type": "code",
      "execution_count": 30,
      "metadata": {
        "colab": {
          "base_uri": "https://localhost:8080/"
        },
        "id": "tYxsas4RT2ey",
        "outputId": "19fc5019-d7c0-4b4a-b12a-a7755520e61a"
      },
      "outputs": [
        {
          "output_type": "stream",
          "name": "stdout",
          "text": [
            "Requirement already satisfied: requests in /usr/local/lib/python3.10/dist-packages (2.31.0)\n",
            "Requirement already satisfied: charset-normalizer<4,>=2 in /usr/local/lib/python3.10/dist-packages (from requests) (3.3.2)\n",
            "Requirement already satisfied: idna<4,>=2.5 in /usr/local/lib/python3.10/dist-packages (from requests) (3.6)\n",
            "Requirement already satisfied: urllib3<3,>=1.21.1 in /usr/local/lib/python3.10/dist-packages (from requests) (1.26.18)\n",
            "Requirement already satisfied: certifi>=2017.4.17 in /usr/local/lib/python3.10/dist-packages (from requests) (2023.11.17)\n",
            "Requirement already satisfied: beautifulsoup4 in /usr/local/lib/python3.10/dist-packages (4.11.2)\n",
            "Requirement already satisfied: soupsieve>1.2 in /usr/local/lib/python3.10/dist-packages (from beautifulsoup4) (2.5)\n"
          ]
        }
      ],
      "source": [
        "# Requirement\n",
        "!pip install openai -q\n",
        "!pip install langchain -q\n",
        "!pip install chromadb -q\n",
        "!pip install tiktoken -q\n",
        "!pip install pypdf -q\n",
        "!pip install unstructured[local-inference] -q\n",
        "!pip install gradio -q\n",
        "!pip install requests\n",
        "!pip install beautifulsoup4"
      ]
    },
    {
      "cell_type": "markdown",
      "source": [
        "Web Scraping"
      ],
      "metadata": {
        "id": "BG0wENCBcSYs"
      }
    },
    {
      "cell_type": "code",
      "source": [
        "import requests\n",
        "from bs4 import BeautifulSoup\n",
        "\n",
        "# Specifying the URL which we want to scrape\n",
        "url = 'https://en.wikipedia.org/wiki/2023_Cricket_World_Cup'\n",
        "\n",
        "# Sending a GET request to the URL\n",
        "response = requests.get(url)\n",
        "\n",
        "# Checking if the request was successful (status code 200)\n",
        "if response.status_code == 200:\n",
        "    # If successful, parse the HTML content of the page\n",
        "    soup = BeautifulSoup(response.text, 'html.parser')\n",
        "\n",
        "    paragraphs = soup.find_all('p')\n",
        "else:\n",
        "    print(f\"Failed to retrieve the page. Status code: {response.status_code}\")"
      ],
      "metadata": {
        "id": "sXAT6k9yUh55"
      },
      "execution_count": 31,
      "outputs": []
    },
    {
      "cell_type": "code",
      "source": [
        "# Checking the scraped data\n",
        "for paragraph in paragraphs[:5]:\n",
        "  print(paragraph)"
      ],
      "metadata": {
        "colab": {
          "base_uri": "https://localhost:8080/"
        },
        "id": "WnxnQfZncTzt",
        "outputId": "f83fabbc-7448-4ef4-bb59-c3be892e7cd5"
      },
      "execution_count": 33,
      "outputs": [
        {
          "output_type": "stream",
          "name": "stdout",
          "text": [
            "<p class=\"mw-empty-elt\">\n",
            "</p>\n",
            "<p><b>The 2023 Cricket World Cup</b>, officially known as the <b>2023 ICC Men's Cricket World Cup</b>, was the 13th edition of the <a href=\"/wiki/Cricket_World_Cup\" title=\"Cricket World Cup\">Cricket World Cup</a>. It started on 5 October and concluded on 19 November 2023, with <a href=\"/wiki/Australia_national_cricket_team\" title=\"Australia national cricket team\">Australia</a> winning the tournament.<sup class=\"reference\" id=\"cite_ref-1\"><a href=\"#cite_note-1\">[1]</a></sup> A quadrennial <a href=\"/wiki/One_Day_International\" title=\"One Day International\">One Day International</a> (ODI) <a href=\"/wiki/Cricket\" title=\"Cricket\">cricket</a> tournament contested by national teams, it was organised by the <a href=\"/wiki/International_Cricket_Council\" title=\"International Cricket Council\">International Cricket Council</a> (ICC). Ten national teams participated in the tournament.\n",
            "</p>\n",
            "<p>It was the first men's Cricket World Cup which India hosted solely. The tournament took place in ten different stadiums, in ten cities across the country. In the first semi-final India beat New Zealand, and in the second semi-final Australia beat South Africa. <a href=\"/wiki/2023_Cricket_World_Cup_final\" title=\"2023 Cricket World Cup final\">The final</a> took place between India and Australia at <a href=\"/wiki/Narendra_Modi_Stadium\" title=\"Narendra Modi Stadium\">Narendra Modi Stadium</a> on 19 November with Australia winning the title for the sixth time.<sup class=\"reference\" id=\"cite_ref-2\"><a href=\"#cite_note-2\">[2]</a></sup>\n",
            "</p>\n",
            "<p>The top eight placed teams in the tournament's final points table qualified for the <a href=\"/wiki/2025_ICC_Champions_Trophy\" title=\"2025 ICC Champions Trophy\">2025 ICC Champions Trophy</a>, the next ICC ODI tournament. <a href=\"/wiki/Virat_Kohli\" title=\"Virat Kohli\">Virat Kohli</a> was the player of the tournament and also scored the most runs; <a href=\"/wiki/Mohammed_Shami\" title=\"Mohammed Shami\">Mohammed Shami</a> was the leading wicket-taker. A total of 1,250,307 spectators attended matches, the highest number in any cricket World Cup to date.<sup class=\"reference\" id=\"cite_ref-Spectators_3-0\"><a href=\"#cite_note-Spectators-3\">[3]</a></sup>\n",
            "</p>\n",
            "<p>Originally, the competition was to be played from 9 February to 26 March 2023.<sup class=\"reference\" id=\"cite_ref-4\"><a href=\"#cite_note-4\">[4]</a></sup><sup class=\"reference\" id=\"cite_ref-Dates_5-0\"><a href=\"#cite_note-Dates-5\">[5]</a></sup> In July 2020 it was announced that that the tournament would be moved to October and November as a result of the qualification schedule being disrupted due to the <a href=\"/wiki/Impact_of_the_COVID-19_pandemic_on_cricket\" title=\"Impact of the COVID-19 pandemic on cricket\">COVID-19 pandemic</a>.<sup class=\"reference\" id=\"cite_ref-icc_postpone_6-0\"><a href=\"#cite_note-icc_postpone-6\">[6]</a></sup><sup class=\"reference\" id=\"cite_ref-7\"><a href=\"#cite_note-7\">[7]</a></sup> The ICC released the tournament schedule on 27 June 2023.<sup class=\"reference\" id=\"cite_ref-Fixtures_8-0\"><a href=\"#cite_note-Fixtures-8\">[8]</a></sup><sup class=\"reference\" id=\"cite_ref-9\"><a href=\"#cite_note-9\">[9]</a></sup>\n",
            "</p>\n"
          ]
        }
      ]
    },
    {
      "cell_type": "markdown",
      "source": [
        "Creating tokens and chunks for each of the paragraph"
      ],
      "metadata": {
        "id": "8dRtHkYBcfbR"
      }
    },
    {
      "cell_type": "code",
      "source": [
        "from langchain.embeddings.openai import OpenAIEmbeddings\n",
        "from langchain.vectorstores import Chroma\n",
        "from langchain.text_splitter import CharacterTextSplitter\n",
        "from langchain.chains import ConversationalRetrievalChain"
      ],
      "metadata": {
        "id": "AbMsoX79Uq10"
      },
      "execution_count": 34,
      "outputs": []
    },
    {
      "cell_type": "code",
      "source": [
        "import os\n",
        "os.environ[\"OPENAI_API_KEY\"] = \"\"\n",
        "from langchain.chat_models import ChatOpenAI\n",
        "llm = ChatOpenAI(temperature=0,model_name=\"gpt-4\")"
      ],
      "metadata": {
        "id": "sAaqd4xzU3iU"
      },
      "execution_count": 35,
      "outputs": []
    },
    {
      "cell_type": "code",
      "source": [
        "pip install pymupdf"
      ],
      "metadata": {
        "colab": {
          "base_uri": "https://localhost:8080/"
        },
        "id": "zmtoenbsU5Ke",
        "outputId": "3e485060-4842-435d-fa29-9e439072aa61"
      },
      "execution_count": 36,
      "outputs": [
        {
          "output_type": "stream",
          "name": "stdout",
          "text": [
            "Requirement already satisfied: pymupdf in /usr/local/lib/python3.10/dist-packages (1.23.7)\n",
            "Requirement already satisfied: PyMuPDFb==1.23.7 in /usr/local/lib/python3.10/dist-packages (from pymupdf) (1.23.7)\n"
          ]
        }
      ]
    },
    {
      "cell_type": "code",
      "source": [
        "from bs4 import BeautifulSoup, Tag\n",
        "\n",
        "# Assuming paragraphs is a list of BeautifulSoup objects\n",
        "paragraph_texts = []\n",
        "for index, paragraph in enumerate(paragraphs):\n",
        "    try:\n",
        "        if paragraph and (isinstance(paragraph, Tag) or isinstance(paragraph, str)):\n",
        "            # If it's a Tag, get the text. If it's a string, use it directly.\n",
        "            text = paragraph.get_text() if isinstance(paragraph, Tag) else paragraph\n",
        "            paragraph_texts.append(text)\n",
        "        else:\n",
        "            print(f\"Skipping empty or non-BeautifulSoup paragraph at index {index}\")\n",
        "    except Exception as e:\n",
        "        print(f\"Error processing paragraph at index {index}\")\n",
        "        print(f\"Error details: {e}\")\n",
        "\n",
        "document_objects = [MyDocument(text) for text in paragraph_texts if text]\n",
        "\n",
        "# Chunk and Embeddings\n",
        "text_splitter = CharacterTextSplitter(chunk_size=1000, chunk_overlap=0)\n",
        "documents = text_splitter.split_documents(document_objects)\n",
        "\n",
        "# Create instances of MyDocument for each piece of text\n",
        "document_objects = [MyDocument(text) for text in paragraph_texts if text]\n",
        "\n",
        "# Chunk and Embeddings\n",
        "text_splitter = CharacterTextSplitter(chunk_size=1000, chunk_overlap=0)\n",
        "documents = text_splitter.split_documents(document_objects)\n"
      ],
      "metadata": {
        "id": "0Uq3tVEtVvk5"
      },
      "execution_count": 37,
      "outputs": []
    },
    {
      "cell_type": "code",
      "source": [
        "embeddings = OpenAIEmbeddings()\n",
        "vectorstore = Chroma.from_documents(documents, embeddings)\n",
        "\n",
        "# Initialise Langchain - Conversation Retrieval Chain\n",
        "qa = ConversationalRetrievalChain.from_llm(ChatOpenAI(temperature=0), vectorstore.as_retriever())"
      ],
      "metadata": {
        "id": "sLH9psNRWROR"
      },
      "execution_count": 38,
      "outputs": []
    },
    {
      "cell_type": "markdown",
      "source": [
        "Input queries and model response"
      ],
      "metadata": {
        "id": "5aU4YbH8dIaR"
      }
    },
    {
      "cell_type": "code",
      "source": [
        "while True:\n",
        "\n",
        "    user_question = input(\"Ask a question (type 'no' to exit): \")\n",
        "\n",
        "    # Check if the user wants to exit\n",
        "    if user_question.lower() == 'no':\n",
        "        print(\"Thank You!\")\n",
        "        break\n",
        "\n",
        "    # Get response from QA chain\n",
        "    response = qa({\"question\": user_question, \"chat_history\": []})\n",
        "\n",
        "    # Extract the answer from the response\n",
        "    answer = response.get(\"answer\", \"No answer found.\")\n",
        "\n",
        "    # Print the response\n",
        "    print(f\"User Question: {user_question}\\nAnswer: {answer}\\n\")\n"
      ],
      "metadata": {
        "colab": {
          "base_uri": "https://localhost:8080/"
        },
        "id": "7KCNWmsMYAcI",
        "outputId": "19edeed2-765c-438a-c35d-3e1b09ff82b9"
      },
      "execution_count": 39,
      "outputs": [
        {
          "output_type": "stream",
          "name": "stdout",
          "text": [
            "Ask a question (type 'no' to exit): who won the icc world cup 2023\n",
            "User Question: who won the icc world cup 2023\n",
            "Answer: Australia won the ICC World Cup 2023.\n",
            "\n",
            "Ask a question (type 'no' to exit): where was it held?\n",
            "User Question: where was it held?\n",
            "Answer: The tournament was held in ten different stadiums, situated in ten different cities across India. The final took place at Narendra Modi Stadium in Ahmedabad.\n",
            "\n",
            "Ask a question (type 'no' to exit): who were the indian players\n",
            "User Question: who were the indian players\n",
            "Answer: The context does not provide information about the specific Indian players in the cricket World Cup. Therefore, I don't know the answer to your question.\n",
            "\n",
            "Ask a question (type 'no' to exit): who was the captain of the indian team?\n",
            "User Question: who was the captain of the indian team?\n",
            "Answer: Rohit Sharma was the captain of the Indian team in the tournament.\n",
            "\n",
            "Ask a question (type 'no' to exit): who were the batsmen for india\n",
            "User Question: who were the batsmen for india\n",
            "Answer: I don't know the specific batsmen for India in the Cricket World Cup.\n",
            "\n",
            "Ask a question (type 'no' to exit): no\n",
            "Thank You!\n"
          ]
        }
      ]
    },
    {
      "cell_type": "code",
      "source": [],
      "metadata": {
        "id": "n5vCooRHYt5m"
      },
      "execution_count": null,
      "outputs": []
    }
  ]
}